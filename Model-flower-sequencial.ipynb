{
 "cells": [
  {
   "cell_type": "code",
   "execution_count": 3,
   "id": "1682d131",
   "metadata": {},
   "outputs": [],
   "source": [
    "import os\n",
    "import PIL\n",
    "import shutil\n",
    "import pathlib\n",
    "import numpy as np  \n",
    "import matplotlib.pyplot as plt\n",
    "import tensorflow as tf\n",
    "from tensorflow import keras\n",
    "from tensorflow.keras import layers\n",
    "from tensorflow.keras.models import Sequential,save_model"
   ]
  },
  {
   "cell_type": "code",
   "execution_count": 4,
   "id": "7ac6e973",
   "metadata": {},
   "outputs": [],
   "source": [
    "dataset_url=\"https://storage.googleapis.com/download.tensorflow.org/example_images/flower_photos.tgz\""
   ]
  },
  {
   "cell_type": "code",
   "execution_count": 13,
   "id": "9d33ce1d",
   "metadata": {},
   "outputs": [],
   "source": [
    "data_dir=tf.keras.utils.get_file('flower_photos',origin=dataset_url,untar=True)\n",
    "data_dir=pathlib.Path(data_dir)"
   ]
  },
  {
   "cell_type": "code",
   "execution_count": 14,
   "id": "ff6fe512",
   "metadata": {},
   "outputs": [
    {
     "data": {
      "text/plain": [
       "WindowsPath('C:/Users/Q/.keras/datasets/flower_photos')"
      ]
     },
     "execution_count": 14,
     "metadata": {},
     "output_type": "execute_result"
    }
   ],
   "source": [
    "data_dir"
   ]
  },
  {
   "cell_type": "code",
   "execution_count": 15,
   "id": "ece5c509",
   "metadata": {},
   "outputs": [],
   "source": [
    "image_count=len(list(data_dir.glob('*/*.jpg')))"
   ]
  },
  {
   "cell_type": "code",
   "execution_count": 16,
   "id": "7cbd0373",
   "metadata": {},
   "outputs": [
    {
     "name": "stdout",
     "output_type": "stream",
     "text": [
      "The total opf image: 3670\n"
     ]
    }
   ],
   "source": [
    "print(\"The total opf image:\",image_count)"
   ]
  },
  {
   "cell_type": "code",
   "execution_count": 17,
   "id": "e294a450",
   "metadata": {},
   "outputs": [],
   "source": [
    "batch_size=32\n",
    "img_height=180\n",
    "img_width=180"
   ]
  },
  {
   "cell_type": "code",
   "execution_count": 19,
   "id": "92cd5733",
   "metadata": {},
   "outputs": [
    {
     "name": "stdout",
     "output_type": "stream",
     "text": [
      "Found 3670 files belonging to 5 classes.\n",
      "Using 2936 files for training.\n"
     ]
    }
   ],
   "source": [
    "train_ds=tf.keras.preprocessing.image_dataset_from_directory(\n",
    "    data_dir,\n",
    "    validation_split=0.2,\n",
    "    subset=\"training\",\n",
    "    seed=42,\n",
    "    image_size=(img_height,img_width),\n",
    "    batch_size=batch_size\n",
    ")"
   ]
  },
  {
   "cell_type": "code",
   "execution_count": 20,
   "id": "4c427f44",
   "metadata": {},
   "outputs": [
    {
     "name": "stdout",
     "output_type": "stream",
     "text": [
      "Found 3670 files belonging to 5 classes.\n",
      "Using 734 files for validation.\n"
     ]
    }
   ],
   "source": [
    "val_ds=tf.keras.preprocessing.image_dataset_from_directory(\n",
    "    data_dir,\n",
    "    validation_split=0.2,\n",
    "    subset=\"validation\",\n",
    "    seed=42,\n",
    "    image_size=(img_height,img_width),\n",
    "    batch_size=batch_size\n",
    ")"
   ]
  },
  {
   "cell_type": "code",
   "execution_count": 22,
   "id": "07eb732c",
   "metadata": {},
   "outputs": [
    {
     "name": "stdout",
     "output_type": "stream",
     "text": [
      "class_name: ['daisy', 'dandelion', 'roses', 'sunflowers', 'tulips']\n"
     ]
    }
   ],
   "source": [
    "class_names=train_ds.class_names\n",
    "print(\"class_name:\",class_names)"
   ]
  },
  {
   "cell_type": "code",
   "execution_count": 23,
   "id": "006443c9",
   "metadata": {},
   "outputs": [],
   "source": [
    "train_ds=train_ds.cache().shuffle(1000)\n",
    "val_ds=val_ds.cache()"
   ]
  },
  {
   "cell_type": "code",
   "execution_count": 24,
   "id": "498ab336",
   "metadata": {},
   "outputs": [],
   "source": [
    "num_classes=len(class_names)"
   ]
  },
  {
   "cell_type": "code",
   "execution_count": 26,
   "id": "a699752d",
   "metadata": {},
   "outputs": [],
   "source": [
    "model=Sequential([\n",
    "    layers.experimental.preprocessing.Rescaling(1./255,input_shape=(img_height,img_width,3)),\n",
    "    layers.Conv2D(16,3,padding='same',activation='relu'),\n",
    "    layers.MaxPooling2D(),\n",
    "    layers.Conv2D(32,3,padding='same',activation='relu'),\n",
    "    layers.MaxPooling2D(),\n",
    "    layers.Conv2D(64,3,padding='same',activation='relu'),\n",
    "    layers.MaxPooling2D(),\n",
    "    layers.Flatten(),\n",
    "    layers.Dense(128,activation='relu'),\n",
    "    layers.Dense(num_classes)\n",
    "    ])"
   ]
  },
  {
   "cell_type": "code",
   "execution_count": 27,
   "id": "165a903a",
   "metadata": {},
   "outputs": [],
   "source": [
    "model.compile(optimizer='adam',\n",
    "             loss=tf.keras.losses.SparseCategoricalCrossentropy(from_logits=True),\n",
    "             metrics=['accuracy']\n",
    "             )"
   ]
  },
  {
   "cell_type": "code",
   "execution_count": 28,
   "id": "1cc040fd",
   "metadata": {},
   "outputs": [
    {
     "name": "stdout",
     "output_type": "stream",
     "text": [
      "Model: \"sequential_1\"\n",
      "_________________________________________________________________\n",
      " Layer (type)                Output Shape              Param #   \n",
      "=================================================================\n",
      " rescaling_1 (Rescaling)     (None, 180, 180, 3)       0         \n",
      "                                                                 \n",
      " conv2d_3 (Conv2D)           (None, 180, 180, 16)      448       \n",
      "                                                                 \n",
      " max_pooling2d_3 (MaxPooling  (None, 90, 90, 16)       0         \n",
      " 2D)                                                             \n",
      "                                                                 \n",
      " conv2d_4 (Conv2D)           (None, 90, 90, 32)        4640      \n",
      "                                                                 \n",
      " max_pooling2d_4 (MaxPooling  (None, 45, 45, 32)       0         \n",
      " 2D)                                                             \n",
      "                                                                 \n",
      " conv2d_5 (Conv2D)           (None, 45, 45, 64)        18496     \n",
      "                                                                 \n",
      " max_pooling2d_5 (MaxPooling  (None, 22, 22, 64)       0         \n",
      " 2D)                                                             \n",
      "                                                                 \n",
      " flatten_1 (Flatten)         (None, 30976)             0         \n",
      "                                                                 \n",
      " dense_2 (Dense)             (None, 128)               3965056   \n",
      "                                                                 \n",
      " dense_3 (Dense)             (None, 5)                 645       \n",
      "                                                                 \n",
      "=================================================================\n",
      "Total params: 3,989,285\n",
      "Trainable params: 3,989,285\n",
      "Non-trainable params: 0\n",
      "_________________________________________________________________\n",
      "None\n"
     ]
    }
   ],
   "source": [
    "print(model.summary())"
   ]
  },
  {
   "cell_type": "code",
   "execution_count": 30,
   "id": "cb6b8394",
   "metadata": {},
   "outputs": [
    {
     "name": "stdout",
     "output_type": "stream",
     "text": [
      "Epoch 1/10\n",
      "92/92 [==============================] - 31s 302ms/step - loss: 1.4098 - accuracy: 0.3873 - val_loss: 1.0803 - val_accuracy: 0.5504\n",
      "Epoch 2/10\n",
      "92/92 [==============================] - 27s 296ms/step - loss: 1.0080 - accuracy: 0.6042 - val_loss: 1.0084 - val_accuracy: 0.5981\n",
      "Epoch 3/10\n",
      "92/92 [==============================] - 28s 300ms/step - loss: 0.8418 - accuracy: 0.6764 - val_loss: 0.9620 - val_accuracy: 0.6240\n",
      "Epoch 4/10\n",
      "92/92 [==============================] - 27s 296ms/step - loss: 0.6833 - accuracy: 0.7510 - val_loss: 1.0059 - val_accuracy: 0.6267\n",
      "Epoch 5/10\n",
      "92/92 [==============================] - 27s 296ms/step - loss: 0.5075 - accuracy: 0.8205 - val_loss: 1.1397 - val_accuracy: 0.6213\n",
      "Epoch 6/10\n",
      "92/92 [==============================] - 27s 295ms/step - loss: 0.3235 - accuracy: 0.8896 - val_loss: 1.2515 - val_accuracy: 0.6063\n",
      "Epoch 7/10\n",
      "92/92 [==============================] - 27s 296ms/step - loss: 0.1788 - accuracy: 0.9458 - val_loss: 1.5126 - val_accuracy: 0.6512\n",
      "Epoch 8/10\n",
      "92/92 [==============================] - 27s 295ms/step - loss: 0.0928 - accuracy: 0.9772 - val_loss: 1.7397 - val_accuracy: 0.6185\n",
      "Epoch 9/10\n",
      "92/92 [==============================] - 27s 296ms/step - loss: 0.0650 - accuracy: 0.9837 - val_loss: 2.0053 - val_accuracy: 0.6240\n",
      "Epoch 10/10\n",
      "92/92 [==============================] - 27s 296ms/step - loss: 0.0787 - accuracy: 0.9741 - val_loss: 1.9047 - val_accuracy: 0.6431\n"
     ]
    }
   ],
   "source": [
    "epochs=10\n",
    "history=model.fit(\n",
    "    train_ds,\n",
    "    validation_data=val_ds,\n",
    "    epochs=epochs\n",
    ")"
   ]
  },
  {
   "cell_type": "code",
   "execution_count": 31,
   "id": "83e50fe4",
   "metadata": {},
   "outputs": [],
   "source": [
    "acc=history.history['accuracy']"
   ]
  },
  {
   "cell_type": "code",
   "execution_count": 32,
   "id": "fb23292d",
   "metadata": {},
   "outputs": [],
   "source": [
    "val_acc=history.history['val_accuracy']"
   ]
  },
  {
   "cell_type": "code",
   "execution_count": 33,
   "id": "f537828e",
   "metadata": {},
   "outputs": [],
   "source": [
    "loss=history.history['loss']"
   ]
  },
  {
   "cell_type": "code",
   "execution_count": 34,
   "id": "228d421f",
   "metadata": {},
   "outputs": [],
   "source": [
    "val_loss=history.history['val_loss']"
   ]
  },
  {
   "cell_type": "code",
   "execution_count": 35,
   "id": "8a3bfe52",
   "metadata": {},
   "outputs": [],
   "source": [
    "epochs_range=range(epochs)"
   ]
  },
  {
   "cell_type": "code",
   "execution_count": 38,
   "id": "9fb5f2e9",
   "metadata": {},
   "outputs": [
    {
     "data": {
      "image/png": "[encoded data removed]",
      "text/plain": [
       "<Figure size 800x800 with 2 Axes>"
      ]
     },
     "metadata": {},
     "output_type": "display_data"
    }
   ],
   "source": [
    "plt.figure(figsize=(8,8))\n",
    "\n",
    "plt.subplot(1,2,1)\n",
    "plt.plot(epochs_range,acc,label=\"Trainin Accuracy\")\n",
    "plt.plot(epochs_range,val_acc,label=\"Validation Accuracy\")\n",
    "plt.legend(loc=\"lower right\")\n",
    "plt.title('Training and Validation Accuracy')\n",
    "\n",
    "plt.subplot(1,2,2)\n",
    "plt.plot(epochs_range,loss,label=\"Training Loss\")\n",
    "plt.plot(epochs_range,val_loss,label=\"Validation Loss\")\n",
    "plt.legend(loc=\"lower right\")\n",
    "plt.title(\"Traing and Validation Loss\")\n",
    "\n",
    "plt.show()"
   ]
  },
  {
   "cell_type": "code",
   "execution_count": 39,
   "id": "fc2d3ac7",
   "metadata": {},
   "outputs": [],
   "source": [
    "save_model(model,'flower_sequential_model_trained.hdf5')"
   ]
  },
  {
   "cell_type": "code",
   "execution_count": null,
   "id": "d0fffbb7",
   "metadata": {},
   "outputs": [],
   "source": []
  }
 ],
 "metadata": {
  "kernelspec": {
   "display_name": "Python 3 (ipykernel)",
   "language": "python",
   "name": "python3"
  },
  "language_info": {
   "codemirror_mode": {
    "name": "ipython",
    "version": 3
   },
   "file_extension": ".py",
   "mimetype": "text/x-python",
   "name": "python",
   "nbconvert_exporter": "python",
   "pygments_lexer": "ipython3",
   "version": "3.9.15"
  }
 },
 "nbformat": 4,
 "nbformat_minor": 5
}
